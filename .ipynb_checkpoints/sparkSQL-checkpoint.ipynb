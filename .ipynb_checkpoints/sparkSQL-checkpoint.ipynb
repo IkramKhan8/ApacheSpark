{
 "cells": [
  {
   "cell_type": "code",
   "execution_count": 50,
   "id": "6bcc8011-ff9b-41ca-8330-f27b0229b547",
   "metadata": {},
   "outputs": [],
   "source": [
    "#Importing spark session\n",
    "from pyspark.sql import SparkSession\n",
    "from pyspark.sql.functions import *"
   ]
  },
  {
   "cell_type": "code",
   "execution_count": 52,
   "id": "779f15cd-97c6-4977-9695-c000569c67b3",
   "metadata": {},
   "outputs": [],
   "source": [
    "spark = SparkSession\\\n",
    ".builder\\\n",
    ".appName(\"sparksql\")\\\n",
    ".getOrCreate()"
   ]
  },
  {
   "cell_type": "code",
   "execution_count": 54,
   "id": "488f2f0a-aad9-45e1-87bf-4d7d8836fc83",
   "metadata": {},
   "outputs": [
    {
     "name": "stdout",
     "output_type": "stream",
     "text": [
      "3.5.1\n"
     ]
    }
   ],
   "source": [
    "print(spark.version)"
   ]
  },
  {
   "cell_type": "code",
   "execution_count": 56,
   "id": "d16525f3-68ae-4860-bb5c-ea212e262f70",
   "metadata": {},
   "outputs": [],
   "source": [
    "data = spark.read.format('csv')\\\n",
    ".option('inferSchema','true')\\\n",
    ".option('header','true')\\\n",
    ".option('path','operations_management.csv')\\\n",
    ".load()"
   ]
  },
  {
   "cell_type": "code",
   "execution_count": 58,
   "id": "4163b6be-22ad-4060-9b5d-86f0a28e5210",
   "metadata": {},
   "outputs": [
    {
     "name": "stdout",
     "output_type": "stream",
     "text": [
      "root\n",
      " |-- description: string (nullable = true)\n",
      " |-- industry: string (nullable = true)\n",
      " |-- level: integer (nullable = true)\n",
      " |-- size: string (nullable = true)\n",
      " |-- line_code: string (nullable = true)\n",
      " |-- value: integer (nullable = true)\n",
      "\n"
     ]
    }
   ],
   "source": [
    "data.printSchema()"
   ]
  },
  {
   "cell_type": "code",
   "execution_count": 60,
   "id": "39461de8-ab76-4439-8f8b-2a73a629b82c",
   "metadata": {},
   "outputs": [],
   "source": [
    "#Using dataFrame API and it's transfomations\n",
    "data_2 = data.select(\"industry\",\"value\")\\\n",
    ".filter((col(\"value\") > 200) & (col(\"industry\") != \"total\"))\\\n",
    ".orderBy(desc(\"value\"))"
   ]
  },
  {
   "cell_type": "code",
   "execution_count": 62,
   "id": "0ad3b917-1c1b-4319-a4dc-1ccbf9c75157",
   "metadata": {},
   "outputs": [
    {
     "name": "stdout",
     "output_type": "stream",
     "text": [
      "root\n",
      " |-- industry: string (nullable = true)\n",
      " |-- value: integer (nullable = true)\n",
      "\n"
     ]
    }
   ],
   "source": [
    "data_2.printSchema()"
   ]
  },
  {
   "cell_type": "code",
   "execution_count": 64,
   "id": "2af50a40-f27a-46cd-8744-86f60c4d1325",
   "metadata": {},
   "outputs": [
    {
     "name": "stdout",
     "output_type": "stream",
     "text": [
      "+--------------------+-----+\n",
      "|            industry|value|\n",
      "+--------------------+-----+\n",
      "|        Construction| 6030|\n",
      "|        Construction| 5904|\n",
      "|        Construction| 5229|\n",
      "|Accommodation & f...| 5058|\n",
      "|        Construction| 4965|\n",
      "|        Construction| 4959|\n",
      "|Accommodation & f...| 4950|\n",
      "|        Construction| 4686|\n",
      "|        Construction| 4668|\n",
      "|        Construction| 4665|\n",
      "+--------------------+-----+\n",
      "only showing top 10 rows\n",
      "\n"
     ]
    }
   ],
   "source": [
    "data_2.show(10)"
   ]
  },
  {
   "cell_type": "code",
   "execution_count": 74,
   "id": "1e359894-c500-4d69-9920-0ec85d4a0476",
   "metadata": {},
   "outputs": [],
   "source": [
    "#Using Spark SQL funcation to submit SQL query, by creating a temporary view on top data\n",
    "data_2.createOrReplaceTempView(\"data\")"
   ]
  },
  {
   "cell_type": "code",
   "execution_count": 72,
   "id": "ebdfe171-c014-4d11-8ff9-62180905f70a",
   "metadata": {},
   "outputs": [
    {
     "name": "stdout",
     "output_type": "stream",
     "text": [
      "+--------------------+-----+\n",
      "|            industry|value|\n",
      "+--------------------+-----+\n",
      "|        Construction| 6030|\n",
      "|        Construction| 5904|\n",
      "|        Construction| 5229|\n",
      "|Accommodation & f...| 5058|\n",
      "|        Construction| 4965|\n",
      "+--------------------+-----+\n",
      "only showing top 5 rows\n",
      "\n"
     ]
    }
   ],
   "source": [
    "spark.sql(\"\"\"SELECT industry,value \n",
    "FROM data \n",
    "WHERE \n",
    "value > 200 AND industry != \"total\"\n",
    "\"\"\").show(5)"
   ]
  }
 ],
 "metadata": {
  "kernelspec": {
   "display_name": "Python 3 (ipykernel)",
   "language": "python",
   "name": "python3"
  },
  "language_info": {
   "codemirror_mode": {
    "name": "ipython",
    "version": 3
   },
   "file_extension": ".py",
   "mimetype": "text/x-python",
   "name": "python",
   "nbconvert_exporter": "python",
   "pygments_lexer": "ipython3",
   "version": "3.10.14"
  }
 },
 "nbformat": 4,
 "nbformat_minor": 5
}
