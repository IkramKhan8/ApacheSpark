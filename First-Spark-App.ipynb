{
 "cells": [
  {
   "cell_type": "code",
   "execution_count": 2,
   "id": "0af682b4-3cb7-450c-8467-a0f029645e79",
   "metadata": {},
   "outputs": [],
   "source": [
    "#Importing packages\n",
    "from pyspark.sql import SparkSession\n",
    "from pyspark.sql.types import StructType, StructField, IntegerType, StringType\n",
    "import pyspark.sql.functions as func"
   ]
  },
  {
   "cell_type": "code",
   "execution_count": 4,
   "id": "2a7c403f-35ab-452d-97a4-51977025d2e7",
   "metadata": {},
   "outputs": [
    {
     "name": "stderr",
     "output_type": "stream",
     "text": [
      "Setting default log level to \"WARN\".\n",
      "To adjust logging level use sc.setLogLevel(newLevel). For SparkR, use setLogLevel(newLevel).\n",
      "24/07/11 12:25:13 WARN NativeCodeLoader: Unable to load native-hadoop library for your platform... using builtin-java classes where applicable\n"
     ]
    }
   ],
   "source": [
    "#Creating Spark Session\n",
    "spark = SparkSession.builder.appName(\"FirstApp\").getOrCreate()"
   ]
  },
  {
   "cell_type": "code",
   "execution_count": 28,
   "id": "bc7c2573-c648-40d2-8b42-ab125434c130",
   "metadata": {},
   "outputs": [],
   "source": [
    "#Define Schema for Dataframe\n",
    "myschema = StructType([\\\n",
    "    StructField(\"userID\",IntegerType(),True),\n",
    "    StructField(\"name\",StringType(),True),\n",
    "    StructField(\"age\",IntegerType(),True),\n",
    "    StructField(\"friends\",IntegerType(),True)\n",
    "    \n",
    "])"
   ]
  },
  {
   "cell_type": "code",
   "execution_count": 30,
   "id": "3796a046-3ffe-472a-82f1-dd814f0fb1de",
   "metadata": {},
   "outputs": [],
   "source": [
    "#Creating Dataframe on CSV\n",
    "people = spark.read.format(\"CSV\")\\\n",
    "    .schema(myschema)\\\n",
    "    .option(\"path\",\"fakefriends.csv\")\\\n",
    "    .load()"
   ]
  },
  {
   "cell_type": "code",
   "execution_count": 32,
   "id": "bb991cab-ee97-406a-87de-60b760b6835e",
   "metadata": {},
   "outputs": [],
   "source": [
    "#Performaing all transformation\n",
    "output = people.select(people.userID,people.name\\\n",
    "                       ,people.age,people.friends)\\\n",
    "    .where(people.age<30).withColumn('insert_ts',func.current_timestamp())\\\n",
    "    .orderBy(people.userID)"
   ]
  },
  {
   "cell_type": "code",
   "execution_count": 34,
   "id": "6b32b615-ed32-46af-9a1f-71be06f76614",
   "metadata": {},
   "outputs": [
    {
     "data": {
      "text/plain": [
       "112"
      ]
     },
     "execution_count": 34,
     "metadata": {},
     "output_type": "execute_result"
    }
   ],
   "source": [
    "#Creating a count O/P Dataframe\n",
    "output.count()"
   ]
  },
  {
   "cell_type": "code",
   "execution_count": 36,
   "id": "8bcd54a8-a1a9-4bd3-b65c-cff50e2231ff",
   "metadata": {},
   "outputs": [],
   "source": [
    "#Creating a temp view\n",
    "output.createOrReplaceTempView(\"people\")"
   ]
  },
  {
   "cell_type": "code",
   "execution_count": 42,
   "id": "befe0723-67df-42cb-826c-5720f8d927fc",
   "metadata": {},
   "outputs": [
    {
     "name": "stdout",
     "output_type": "stream",
     "text": [
      "+--------+---+-------+--------------------+\n",
      "|    name|age|friends|           insert_ts|\n",
      "+--------+---+-------+--------------------+\n",
      "|Jean-Luc| 26|      2|2024-07-11 12:42:...|\n",
      "|    Hugh| 27|    181|2024-07-11 12:42:...|\n",
      "|  Weyoun| 22|    323|2024-07-11 12:42:...|\n",
      "|   Miles| 19|    268|2024-07-11 12:42:...|\n",
      "|  Julian| 25|      1|2024-07-11 12:42:...|\n",
      "|     Ben| 21|    445|2024-07-11 12:42:...|\n",
      "|  Julian| 22|    100|2024-07-11 12:42:...|\n",
      "|     Nog| 26|    281|2024-07-11 12:42:...|\n",
      "| Beverly| 27|    305|2024-07-11 12:42:...|\n",
      "|    Morn| 25|     96|2024-07-11 12:42:...|\n",
      "|   Brunt| 24|     49|2024-07-11 12:42:...|\n",
      "|     Nog| 20|      1|2024-07-11 12:42:...|\n",
      "| Beverly| 19|    269|2024-07-11 12:42:...|\n",
      "|   Brunt| 19|      5|2024-07-11 12:42:...|\n",
      "|  Geordi| 20|    100|2024-07-11 12:42:...|\n",
      "|  Geordi| 21|    477|2024-07-11 12:42:...|\n",
      "|  Kasidy| 22|    179|2024-07-11 12:42:...|\n",
      "|   Brunt| 20|    384|2024-07-11 12:42:...|\n",
      "|     Ben| 28|    311|2024-07-11 12:42:...|\n",
      "|    Worf| 24|    492|2024-07-11 12:42:...|\n",
      "+--------+---+-------+--------------------+\n",
      "only showing top 20 rows\n",
      "\n"
     ]
    }
   ],
   "source": [
    "#Running a simple Spark SQL query\n",
    "spark.sql(\"select name,age,friends,insert_ts from people\").show()"
   ]
  }
 ],
 "metadata": {
  "kernelspec": {
   "display_name": "Python 3 (ipykernel)",
   "language": "python",
   "name": "python3"
  },
  "language_info": {
   "codemirror_mode": {
    "name": "ipython",
    "version": 3
   },
   "file_extension": ".py",
   "mimetype": "text/x-python",
   "name": "python",
   "nbconvert_exporter": "python",
   "pygments_lexer": "ipython3",
   "version": "3.10.14"
  }
 },
 "nbformat": 4,
 "nbformat_minor": 5
}
